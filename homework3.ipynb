{
 "cells": [
  {
   "cell_type": "markdown",
   "id": "4a8c4be1-9d25-40f6-b462-323b77f4631e",
   "metadata": {},
   "source": [
    "## homework3"
   ]
  },
  {
   "cell_type": "markdown",
   "id": "1f1acb10-2cc2-42a0-936f-6dc781ceca9e",
   "metadata": {},
   "source": [
    "### 1. Setting the Video Capture configuration"
   ]
  },
  {
   "cell_type": "code",
   "execution_count": 3,
   "id": "3747d1d8-e651-49cd-9904-44e31f4e188e",
   "metadata": {},
   "outputs": [],
   "source": [
    "import cv2\n",
    "import numpy as np\n",
    "from matplotlib import pyplot as plt"
   ]
  },
  {
   "cell_type": "code",
   "execution_count": 4,
   "id": "203f021f-50cb-48de-bb45-3768ae26d7a8",
   "metadata": {},
   "outputs": [],
   "source": [
    "def run_main():\n",
    "    cap = cv2.VideoCapture(0)\n",
    "\n",
    "\n",
    "    while(True):\n",
    "        ret, frame = cap.read()\n",
    "        roi = frame[0:500, 0:500]\n",
    "        gray = cv2.cvtColor(roi, cv2.COLOR_BGR2GRAY)\n",
    "\n",
    "        gray_blur = cv2.GaussianBlur(gray, (15, 15), 0)\n",
    "        thresh = cv2.adaptiveThreshold(gray_blur, 255, cv2.ADAPTIVE_THRESH_GAUSSIAN_C,\n",
    "                                       cv2.THRESH_BINARY_INV, 11, 1)\n",
    "\n",
    "        kernel = np.ones((3, 3), np.uint8)\n",
    "        closing = cv2.morphologyEx(thresh, cv2.MORPH_CLOSE,\n",
    "        kernel, iterations=4)\n",
    "\n",
    "        cont_img = closing.copy()\n",
    "        contours, hierarchy = cv2.findContours(cont_img, cv2.RETR_EXTERNAL,\n",
    "                                               cv2.CHAIN_APPROX_SIMPLE)\n",
    "\n",
    "        for cnt in contours:\n",
    "            area = cv2.contourArea(cnt)\n",
    "            if area < 2000 or area > 4000:\n",
    "                continue\n",
    "\n",
    "            if len(cnt) < 5:\n",
    "                continue\n",
    "\n",
    "            ellipse = cv2.fitEllipse(cnt)\n",
    "            cv2.ellipse(roi, ellipse, (0,255,0), 2)\n",
    "\n",
    "        cv2.imshow(\"Morphological Closing\", closing)\n",
    "        cv2.imshow(\"Adaptive Thresholding\", thresh)\n",
    "        cv2.imshow('Contours', roi)\n",
    "\n",
    "        if cv2.waitKey(1) & 0xFF == ord('q'):\n",
    "            break\n",
    "\n",
    "    cap.release()\n",
    "    cv2.destroyAllWindows()\n",
    "\n",
    "if __name__ == \"__main__\":\n",
    "    run_main()"
   ]
  },
  {
   "cell_type": "code",
   "execution_count": null,
   "id": "90affb07-e939-47b0-85dd-2de92471ee5d",
   "metadata": {},
   "outputs": [],
   "source": []
  }
 ],
 "metadata": {
  "kernelspec": {
   "display_name": "Python 3",
   "language": "python",
   "name": "python3"
  },
  "language_info": {
   "codemirror_mode": {
    "name": "ipython",
    "version": 3
   },
   "file_extension": ".py",
   "mimetype": "text/x-python",
   "name": "python",
   "nbconvert_exporter": "python",
   "pygments_lexer": "ipython3",
   "version": "3.9.4"
  }
 },
 "nbformat": 4,
 "nbformat_minor": 5
}
