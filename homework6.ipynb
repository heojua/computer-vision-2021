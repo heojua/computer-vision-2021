{
 "cells": [
  {
   "cell_type": "markdown",
   "id": "61d2395a-2435-4890-975f-49e25b5ba5a2",
   "metadata": {},
   "source": [
    "## Homework6"
   ]
  },
  {
   "cell_type": "code",
   "execution_count": 10,
   "id": "68378d90-94be-4e3f-94b0-44b9f682a976",
   "metadata": {},
   "outputs": [],
   "source": [
    "import numpy as np\n",
    "import cv2 as cv2\n",
    "import matplotlib.pyplot as plt "
   ]
  },
  {
   "cell_type": "code",
   "execution_count": null,
   "id": "a2029201-3fdb-4816-b5ad-2479b6efb123",
   "metadata": {},
   "outputs": [],
   "source": [
    "template=cv2.imread('./C6/template.jpg',0)\n",
    "cap=cv2.VideoCapture(0)\n",
    "                    \n",
    "cv2.namedWindow('image')\n",
    "\n",
    "cv2.createTrackbar('Threshold','image',0,100,lambda x: None)\n",
    "                    \n",
    "sift = cv2.SIFT_create()\n",
    "bf = cv2.BFMatcher()\n",
    "\n",
    "while True:\n",
    "    ret, frame=cap.read()\n",
    "    gray=cv2.cvtColor(frame, cv2.COLOR_BGR2GRAY)\n",
    "    \n",
    "    threshold=cv2.getTrackbarPos('Threshold','image') / 100.0\n",
    "    \n",
    "    kp1, des1 = sift.detectAndCompute(gray, None)\n",
    "    kp2, des2 = sift.detectAndCompute(template, None)\n",
    "    \n",
    "    matches = bf.knnMatch(des1, des2, k=2)\n",
    "# Apply ratio test\n",
    "    good = []\n",
    "\n",
    "    for m,n in matches:\n",
    "        if m.distance < threshold*n.distance:\n",
    "            good.append([m])\n",
    "        \n",
    "    img3 = cv2.drawMatchesKnn(gray,kp1,template,kp2,good,None,flags=2)\n",
    "\n",
    "    cv2.imshow(\"image\", img3)\n",
    "\n",
    "    if cv2.waitKey(1) & 0xFF == ord(\"q\"):\n",
    "        break\n",
    "cap.release()\n",
    "cv2.destroyAllWindows()\n",
    "cv2.waitKey(1)\n"
   ]
  },
  {
   "cell_type": "code",
   "execution_count": 9,
   "id": "c05643c4-e20a-4a27-af70-b461a3e0e6ca",
   "metadata": {},
   "outputs": [
    {
     "data": {
      "text/plain": [
       "-1"
      ]
     },
     "execution_count": 9,
     "metadata": {},
     "output_type": "execute_result"
    }
   ],
   "source": [
    "cap.release()\n",
    "cv2.destroyAllWindows()\n",
    "cv2.waitKey(1)"
   ]
  },
  {
   "cell_type": "code",
   "execution_count": null,
   "id": "9927838d-a89e-4d9f-964b-da9bfcbb0195",
   "metadata": {},
   "outputs": [],
   "source": []
  },
  {
   "cell_type": "code",
   "execution_count": null,
   "id": "e43007a6-0a31-46e7-b6e6-a7aa0ec6b489",
   "metadata": {},
   "outputs": [],
   "source": []
  },
  {
   "cell_type": "code",
   "execution_count": null,
   "id": "8c6486c3-67f7-4009-88f6-b46be903ebac",
   "metadata": {},
   "outputs": [],
   "source": []
  }
 ],
 "metadata": {
  "kernelspec": {
   "display_name": "Python 3",
   "language": "python",
   "name": "python3"
  },
  "language_info": {
   "codemirror_mode": {
    "name": "ipython",
    "version": 3
   },
   "file_extension": ".py",
   "mimetype": "text/x-python",
   "name": "python",
   "nbconvert_exporter": "python",
   "pygments_lexer": "ipython3",
   "version": "3.9.4"
  }
 },
 "nbformat": 4,
 "nbformat_minor": 5
}
