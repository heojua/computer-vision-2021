{
 "cells": [
  {
   "cell_type": "markdown",
   "id": "f662f385-fe35-41d7-9bb2-25dc7d3521ba",
   "metadata": {},
   "source": [
    "## tutorial 8"
   ]
  },
  {
   "cell_type": "code",
   "execution_count": 7,
   "id": "17f3aabb-9aad-41d5-9867-f4c9f98a2b83",
   "metadata": {},
   "outputs": [],
   "source": [
    "def myfun(x,y):\n",
    "    return x*y"
   ]
  },
  {
   "cell_type": "code",
   "execution_count": 8,
   "id": "cb4294c6-5aaa-428c-8e8a-483b91a37f90",
   "metadata": {},
   "outputs": [
    {
     "data": {
      "text/plain": [
       "12"
      ]
     },
     "execution_count": 8,
     "metadata": {},
     "output_type": "execute_result"
    }
   ],
   "source": [
    "myfun(3,4)"
   ]
  },
  {
   "cell_type": "code",
   "execution_count": 9,
   "id": "2e8c0050-da3f-4f12-99c7-4847a29c393f",
   "metadata": {},
   "outputs": [],
   "source": [
    "def myfun(x):\n",
    "    return x*3"
   ]
  },
  {
   "cell_type": "code",
   "execution_count": 10,
   "id": "fc92c06b-86ef-456d-9ce8-6aed300514fd",
   "metadata": {},
   "outputs": [],
   "source": [
    "def apply(q,x):\n",
    "    return q(x)"
   ]
  },
  {
   "cell_type": "code",
   "execution_count": 11,
   "id": "6392b5ae-b5a5-4292-a90d-67cc489662d7",
   "metadata": {},
   "outputs": [
    {
     "data": {
      "text/plain": [
       "21"
      ]
     },
     "execution_count": 11,
     "metadata": {},
     "output_type": "execute_result"
    }
   ],
   "source": [
    "apply(myfun,7)"
   ]
  },
  {
   "cell_type": "code",
   "execution_count": 12,
   "id": "e128b5ca-52f5-4504-96ff-d8d2546bbfda",
   "metadata": {},
   "outputs": [
    {
     "data": {
      "text/plain": [
       "28"
      ]
     },
     "execution_count": 12,
     "metadata": {},
     "output_type": "execute_result"
    }
   ],
   "source": [
    "apply(lambda z: z*4,7)"
   ]
  },
  {
   "cell_type": "code",
   "execution_count": 13,
   "id": "6236e60a-671d-4869-81b8-279807ce4802",
   "metadata": {},
   "outputs": [],
   "source": [
    "def myfun(b,c=3,d=\"hello\"):\n",
    "    return b+c"
   ]
  },
  {
   "cell_type": "code",
   "execution_count": 14,
   "id": "0e873a69-d138-4dfb-8567-edbb430db3a5",
   "metadata": {},
   "outputs": [
    {
     "data": {
      "text/plain": [
       "8"
      ]
     },
     "execution_count": 14,
     "metadata": {},
     "output_type": "execute_result"
    }
   ],
   "source": [
    "myfun(5,3,\"hello\")"
   ]
  },
  {
   "cell_type": "code",
   "execution_count": 15,
   "id": "2ae0743b-aff0-46b6-a180-f52c1449af37",
   "metadata": {},
   "outputs": [
    {
     "data": {
      "text/plain": [
       "8"
      ]
     },
     "execution_count": 15,
     "metadata": {},
     "output_type": "execute_result"
    }
   ],
   "source": [
    "myfun(5,3)"
   ]
  },
  {
   "cell_type": "code",
   "execution_count": 16,
   "id": "fd76b5a5-95da-40e5-8147-c0b89a077ecb",
   "metadata": {},
   "outputs": [
    {
     "data": {
      "text/plain": [
       "8"
      ]
     },
     "execution_count": 16,
     "metadata": {},
     "output_type": "execute_result"
    }
   ],
   "source": [
    "myfun(5)"
   ]
  },
  {
   "cell_type": "code",
   "execution_count": 17,
   "id": "cacb3777-a4e6-4d84-b56f-43cd1514e6da",
   "metadata": {},
   "outputs": [],
   "source": [
    "def myfun (a,b,c):\n",
    "    return a-b"
   ]
  },
  {
   "cell_type": "code",
   "execution_count": 18,
   "id": "987f81af-3d5f-47d3-bcc5-1ed46c6ff8b6",
   "metadata": {},
   "outputs": [
    {
     "data": {
      "text/plain": [
       "-1"
      ]
     },
     "execution_count": 18,
     "metadata": {},
     "output_type": "execute_result"
    }
   ],
   "source": [
    "myfun(1,2,3) "
   ]
  },
  {
   "cell_type": "code",
   "execution_count": 19,
   "id": "45433d5e-59c6-4220-a476-8ceb96b77398",
   "metadata": {},
   "outputs": [
    {
     "data": {
      "text/plain": [
       "-1"
      ]
     },
     "execution_count": 19,
     "metadata": {},
     "output_type": "execute_result"
    }
   ],
   "source": [
    "myfun(c=3,b=2,a=1)"
   ]
  },
  {
   "cell_type": "code",
   "execution_count": 20,
   "id": "c72f904e-5bb1-4902-abd6-89e065c9bdd0",
   "metadata": {},
   "outputs": [
    {
     "data": {
      "text/plain": [
       "-1"
      ]
     },
     "execution_count": 20,
     "metadata": {},
     "output_type": "execute_result"
    }
   ],
   "source": [
    "myfun(1,c=3,b=2)"
   ]
  },
  {
   "cell_type": "code",
   "execution_count": 21,
   "id": "7bad2ffc-c65e-4a91-8972-9b4d4c476220",
   "metadata": {},
   "outputs": [
    {
     "data": {
      "text/plain": [
       "'HELLO'"
      ]
     },
     "execution_count": 21,
     "metadata": {},
     "output_type": "execute_result"
    }
   ],
   "source": [
    "\"hello\".upper()"
   ]
  },
  {
   "cell_type": "code",
   "execution_count": 22,
   "id": "90e154e3-9772-4bb1-b280-affc764d7055",
   "metadata": {},
   "outputs": [],
   "source": [
    "x=\"abc\""
   ]
  },
  {
   "cell_type": "code",
   "execution_count": 23,
   "id": "5cf64c06-a2aa-4880-9950-62011e1c130e",
   "metadata": {},
   "outputs": [],
   "source": [
    "y=34"
   ]
  },
  {
   "cell_type": "code",
   "execution_count": 24,
   "id": "4b2208f2-7b96-42ac-861f-1b3f58e1309b",
   "metadata": {},
   "outputs": [
    {
     "data": {
      "text/plain": [
       "'abcxyz34'"
      ]
     },
     "execution_count": 24,
     "metadata": {},
     "output_type": "execute_result"
    }
   ],
   "source": [
    "\"%sxyz%d\"%(x,y)"
   ]
  },
  {
   "cell_type": "code",
   "execution_count": 25,
   "id": "eaa1f802-f799-4142-8755-ce40f0580da2",
   "metadata": {},
   "outputs": [
    {
     "name": "stdout",
     "output_type": "stream",
     "text": [
      "abc xyz 34\n"
     ]
    }
   ],
   "source": [
    "print((\"%s xyz %d\")%(\"abc\",34))"
   ]
  },
  {
   "cell_type": "code",
   "execution_count": 26,
   "id": "01f904fa-15f7-45ce-957e-26189dd2afc2",
   "metadata": {},
   "outputs": [
    {
     "name": "stdout",
     "output_type": "stream",
     "text": [
      "abc\n"
     ]
    }
   ],
   "source": [
    "print (\"abc\")"
   ]
  },
  {
   "cell_type": "code",
   "execution_count": 27,
   "id": "4f0bb0f1-2956-435b-b122-0e7506327c72",
   "metadata": {},
   "outputs": [
    {
     "name": "stdout",
     "output_type": "stream",
     "text": [
      "abc def\n"
     ]
    }
   ],
   "source": [
    "print(\"abc\",\"def\")"
   ]
  },
  {
   "cell_type": "code",
   "execution_count": 28,
   "id": "ac96b088-bfb9-41ab-be3a-1fece12cc9eb",
   "metadata": {},
   "outputs": [
    {
     "name": "stdout",
     "output_type": "stream",
     "text": [
      "abc\n"
     ]
    }
   ],
   "source": [
    "print(\"abc\",)"
   ]
  },
  {
   "cell_type": "code",
   "execution_count": 29,
   "id": "b26c4d27-b539-4d97-bae3-d160711a5cce",
   "metadata": {},
   "outputs": [
    {
     "data": {
      "text/plain": [
       "'abc;def;ghi'"
      ]
     },
     "execution_count": 29,
     "metadata": {},
     "output_type": "execute_result"
    }
   ],
   "source": [
    "\";\".join([\"abc\",\"def\",\"ghi\"])"
   ]
  },
  {
   "cell_type": "code",
   "execution_count": 30,
   "id": "d8ea0342-e90a-44a6-8390-fa92dacc606f",
   "metadata": {},
   "outputs": [
    {
     "data": {
      "text/plain": [
       "['abc', 'def', 'hgi']"
      ]
     },
     "execution_count": 30,
     "metadata": {},
     "output_type": "execute_result"
    }
   ],
   "source": [
    "\"abc;def;hgi\".split(\";\")"
   ]
  },
  {
   "cell_type": "code",
   "execution_count": 31,
   "id": "0b097ee7-abc1-46a4-b16f-44c1f77e40ea",
   "metadata": {},
   "outputs": [
    {
     "data": {
      "text/plain": [
       "'hello 2'"
      ]
     },
     "execution_count": 31,
     "metadata": {},
     "output_type": "execute_result"
    }
   ],
   "source": [
    "\"hello \" + str(2)"
   ]
  },
  {
   "cell_type": "code",
   "execution_count": null,
   "id": "c233e721-d720-4d33-ad5b-3a06d44838ee",
   "metadata": {},
   "outputs": [],
   "source": []
  },
  {
   "cell_type": "code",
   "execution_count": 32,
   "id": "fc4f26d1-0153-4617-9384-41c11b9398df",
   "metadata": {},
   "outputs": [
    {
     "name": "stdout",
     "output_type": "stream",
     "text": [
      "1\n",
      "2\n"
     ]
    }
   ],
   "source": [
    "for e in [1,2]:\n",
    "    print (e)"
   ]
  },
  {
   "cell_type": "code",
   "execution_count": 33,
   "id": "6667b405-7969-4edc-ae13-1a383c3e9a4a",
   "metadata": {},
   "outputs": [],
   "source": [
    "s=[1,2]"
   ]
  },
  {
   "cell_type": "code",
   "execution_count": 34,
   "id": "c644845a-8a9b-4cb5-845f-15a2c4a44fb8",
   "metadata": {},
   "outputs": [],
   "source": [
    "it=iter(s)"
   ]
  },
  {
   "cell_type": "code",
   "execution_count": 35,
   "id": "c61912b9-b40b-46a9-88a5-373762692278",
   "metadata": {},
   "outputs": [
    {
     "data": {
      "text/plain": [
       "<list_iterator at 0x1e8884481c0>"
      ]
     },
     "execution_count": 35,
     "metadata": {},
     "output_type": "execute_result"
    }
   ],
   "source": [
    "it"
   ]
  },
  {
   "cell_type": "code",
   "execution_count": 36,
   "id": "b8e785d1-a909-4301-a2d8-c9efa985eced",
   "metadata": {},
   "outputs": [],
   "source": [
    "class Reverse:\n",
    "    \"Iterator for looping over a sequence backwards\"\n",
    "    def init (self, data):\n",
    "        self.data = data\n",
    "        self.index = len(data)\n",
    "    def next(self):\n",
    "        if self.index == 0:  \n",
    "            raise StopIteration\n",
    "        self.index = self.index - 1\n",
    "        return self.data[self.index] \n",
    "    def iter (self):\n",
    "        return self"
   ]
  },
  {
   "cell_type": "code",
   "execution_count": 37,
   "id": "45736a9c-c0a5-47b4-8dc4-c0d597036c1d",
   "metadata": {},
   "outputs": [],
   "source": [
    "def merge(l, r):\n",
    "    llen, rlen, i, j = len(l), len(r), 0, 0\n",
    "    while i < llen or j < rlen:\n",
    "        if j == rlen or (i < llen and l[i] < r[j]):\n",
    "            yield l[i]\n",
    "            i += 1\n",
    "    else:\n",
    "        yield r[j]\n",
    "        j += 1"
   ]
  },
  {
   "cell_type": "code",
   "execution_count": 38,
   "id": "5f33c7cf-6e4f-4be7-93d2-0a248a7b1edb",
   "metadata": {},
   "outputs": [],
   "source": [
    "g = merge([2,4], [1, 3, 5])"
   ]
  },
  {
   "cell_type": "code",
   "execution_count": 39,
   "id": "7a1a8c90-5826-4df4-adf6-195dee38f497",
   "metadata": {},
   "outputs": [],
   "source": [
    "class DiGraph:\n",
    "    def __init__(self, edges):\n",
    "        self.adj = {}\n",
    "        for u,v in edges:\n",
    "            if u not in self.adj: self.adj[u] = [v]\n",
    "            else: self.adj[u].append(v) \n",
    "    def __str__(self):\n",
    "        return '\\n'.join(['%s -> %s'%(u,v) \\\n",
    "                        for u in self.adj for v in self.adj[u]])"
   ]
  },
  {
   "cell_type": "code",
   "execution_count": 40,
   "id": "df8c7e16-4423-4e0b-875a-8a157e688954",
   "metadata": {},
   "outputs": [],
   "source": [
    "d = DiGraph([(1,2),(1,3),(2,4),(4,3),(4,1)])"
   ]
  },
  {
   "cell_type": "code",
   "execution_count": 41,
   "id": "f14af623-9bbe-43b8-b0fa-817e6cde497e",
   "metadata": {},
   "outputs": [],
   "source": [
    "class DiGraph:\n",
    "\n",
    "    def search(self, u, visited=set()):\n",
    "        # If we haven't already visited this node...\n",
    "        if u not in visited: \n",
    "            # yield it\n",
    "            yield u\n",
    "            # and remember we've visited it now.\n",
    "            visited.add(u) \n",
    "            # Then, if there are any adjacant nodes...\n",
    "            if u in self.adj: \n",
    "                # for each adjacent node...\n",
    "                for v in self.adj[u]: \n",
    "                 # search for all nodes reachable from *it*...\n",
    "                 for w in self.search(v, visited): \n",
    "                    # and yield each one.\n",
    "                    yield w"
   ]
  },
  {
   "cell_type": "code",
   "execution_count": null,
   "id": "d5c830ec-def2-4d67-a043-c61376c5669f",
   "metadata": {},
   "outputs": [],
   "source": []
  }
 ],
 "metadata": {
  "kernelspec": {
   "display_name": "Python 3",
   "language": "python",
   "name": "python3"
  },
  "language_info": {
   "codemirror_mode": {
    "name": "ipython",
    "version": 3
   },
   "file_extension": ".py",
   "mimetype": "text/x-python",
   "name": "python",
   "nbconvert_exporter": "python",
   "pygments_lexer": "ipython3",
   "version": "3.8.8"
  }
 },
 "nbformat": 4,
 "nbformat_minor": 5
}
