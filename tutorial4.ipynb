{
 "cells": [
  {
   "cell_type": "markdown",
   "id": "a275cf8c-224e-445e-9633-82671c54ceec",
   "metadata": {},
   "source": [
    "## tutorial4"
   ]
  },
  {
   "cell_type": "code",
   "execution_count": 4,
   "id": "2b6cb732-f6e0-4914-ace1-18751d9b2a7c",
   "metadata": {},
   "outputs": [],
   "source": [
    "x=0"
   ]
  },
  {
   "cell_type": "code",
   "execution_count": 5,
   "id": "ce9d790b-db45-4bdf-8a48-eb7f5ea53429",
   "metadata": {},
   "outputs": [],
   "source": [
    "y=0"
   ]
  },
  {
   "cell_type": "code",
   "execution_count": 6,
   "id": "4376c620-b12d-4564-a822-37a0ea40791d",
   "metadata": {},
   "outputs": [
    {
     "data": {
      "text/plain": [
       "True"
      ]
     },
     "execution_count": 6,
     "metadata": {},
     "output_type": "execute_result"
    }
   ],
   "source": [
    "x==y"
   ]
  },
  {
   "cell_type": "code",
   "execution_count": 7,
   "id": "8d1628c7-2abd-4df3-a355-f018217d7d29",
   "metadata": {},
   "outputs": [
    {
     "data": {
      "text/plain": [
       "True"
      ]
     },
     "execution_count": 7,
     "metadata": {},
     "output_type": "execute_result"
    }
   ],
   "source": [
    "x is y"
   ]
  },
  {
   "cell_type": "code",
   "execution_count": 8,
   "id": "d54d27db-0ef4-4a54-a04d-12075a63ded9",
   "metadata": {},
   "outputs": [],
   "source": [
    "a=1"
   ]
  },
  {
   "cell_type": "code",
   "execution_count": 9,
   "id": "8344327e-25a8-4e8b-9ed3-f3b65241f382",
   "metadata": {},
   "outputs": [],
   "source": [
    "b=2"
   ]
  },
  {
   "cell_type": "code",
   "execution_count": 10,
   "id": "ac4e9892-ea19-4089-bb8d-61ae28312f5e",
   "metadata": {},
   "outputs": [
    {
     "data": {
      "text/plain": [
       "True"
      ]
     },
     "execution_count": 10,
     "metadata": {},
     "output_type": "execute_result"
    }
   ],
   "source": [
    "a!=b"
   ]
  },
  {
   "cell_type": "code",
   "execution_count": 11,
   "id": "3b31a1b3-81ee-413e-a302-996ab33247bc",
   "metadata": {},
   "outputs": [
    {
     "data": {
      "text/plain": [
       "True"
      ]
     },
     "execution_count": 11,
     "metadata": {},
     "output_type": "execute_result"
    }
   ],
   "source": [
    "a<b"
   ]
  },
  {
   "cell_type": "code",
   "execution_count": 12,
   "id": "0f42b971-5691-4c84-b172-1a21c816e862",
   "metadata": {},
   "outputs": [
    {
     "data": {
      "text/plain": [
       "True"
      ]
     },
     "execution_count": 12,
     "metadata": {},
     "output_type": "execute_result"
    }
   ],
   "source": [
    "x<=0"
   ]
  },
  {
   "cell_type": "code",
   "execution_count": 13,
   "id": "5d2d13c3-42be-474f-a128-61188af899c0",
   "metadata": {},
   "outputs": [
    {
     "data": {
      "text/plain": [
       "True"
      ]
     },
     "execution_count": 13,
     "metadata": {},
     "output_type": "execute_result"
    }
   ],
   "source": [
    "a<=b"
   ]
  },
  {
   "cell_type": "code",
   "execution_count": 14,
   "id": "c4772163-fb8e-486c-8542-50916ee7f4f1",
   "metadata": {},
   "outputs": [
    {
     "data": {
      "text/plain": [
       "False"
      ]
     },
     "execution_count": 14,
     "metadata": {},
     "output_type": "execute_result"
    }
   ],
   "source": [
    "b<=a"
   ]
  },
  {
   "cell_type": "code",
   "execution_count": 6,
   "id": "8cb6829d-b22c-4a3d-86e5-404724454753",
   "metadata": {},
   "outputs": [
    {
     "data": {
      "text/plain": [
       "True"
      ]
     },
     "execution_count": 6,
     "metadata": {},
     "output_type": "execute_result"
    }
   ],
   "source": [
    "x<1 and y<3"
   ]
  },
  {
   "cell_type": "code",
   "execution_count": 7,
   "id": "898ed394-f8bd-40fb-9fb8-05a80d222d35",
   "metadata": {},
   "outputs": [
    {
     "data": {
      "text/plain": [
       "True"
      ]
     },
     "execution_count": 7,
     "metadata": {},
     "output_type": "execute_result"
    }
   ],
   "source": [
    "x>1 or y<3"
   ]
  },
  {
   "cell_type": "code",
   "execution_count": 9,
   "id": "62a4e3c2-09d7-4745-828e-116653fe83c1",
   "metadata": {},
   "outputs": [
    {
     "data": {
      "text/plain": [
       "True"
      ]
     },
     "execution_count": 9,
     "metadata": {},
     "output_type": "execute_result"
    }
   ],
   "source": [
    "not x>1"
   ]
  },
  {
   "cell_type": "code",
   "execution_count": 12,
   "id": "d861a9bc-ec21-4f1e-85bb-51cdcdc7fa76",
   "metadata": {},
   "outputs": [
    {
     "name": "stdout",
     "output_type": "stream",
     "text": [
      "x\n"
     ]
    }
   ],
   "source": [
    "if(x==y):\n",
    "    print('x');\n",
    "else:\n",
    "    print('y');"
   ]
  },
  {
   "cell_type": "code",
   "execution_count": 15,
   "id": "77d3ba21-6965-418f-9a19-df201fc7c0a7",
   "metadata": {},
   "outputs": [
    {
     "name": "stdout",
     "output_type": "stream",
     "text": [
      "8이 크다\n"
     ]
    }
   ],
   "source": [
    "if 8>1:\n",
    "    print(\"8이 크다\")\n",
    "else:\n",
    "    print(\"1이 크다\")"
   ]
  },
  {
   "cell_type": "code",
   "execution_count": null,
   "id": "f484f85c-5924-4f36-9a50-75849605cc8e",
   "metadata": {},
   "outputs": [],
   "source": []
  }
 ],
 "metadata": {
  "kernelspec": {
   "display_name": "Python 3",
   "language": "python",
   "name": "python3"
  },
  "language_info": {
   "codemirror_mode": {
    "name": "ipython",
    "version": 3
   },
   "file_extension": ".py",
   "mimetype": "text/x-python",
   "name": "python",
   "nbconvert_exporter": "python",
   "pygments_lexer": "ipython3",
   "version": "3.8.8"
  }
 },
 "nbformat": 4,
 "nbformat_minor": 5
}
