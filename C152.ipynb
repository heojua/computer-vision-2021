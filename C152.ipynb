{
 "cells": [
  {
   "cell_type": "markdown",
   "id": "3781c7e1-9ab7-4e61-80a9-bfbad275c855",
   "metadata": {},
   "source": [
    "## 1.5.2 Harris Corner Detection"
   ]
  },
  {
   "cell_type": "code",
   "execution_count": 1,
   "id": "bb7f882b-d226-4ea8-abba-5f42346a46f7",
   "metadata": {},
   "outputs": [],
   "source": [
    "import cv2\n",
    "import numpy as np"
   ]
  },
  {
   "cell_type": "code",
   "execution_count": 2,
   "id": "da962f2d-6498-4593-a6d1-b3bf83a2916a",
   "metadata": {},
   "outputs": [],
   "source": [
    "filename = '152a.png'\n",
    "img = cv2.imread(filename)\n",
    "\n",
    "gray = cv2.cvtColor(img,cv2.COLOR_BGR2GRAY) #이미지 읽어서 그레이로 만든다\n",
    "\n",
    "gray = np.float32(gray)\n",
    "dst = cv2.cornerHarris(gray,2,3,0.04) #cornerHarris를 부른다. argument3개\n",
    "\n",
    "\n",
    "#result is dilated for marking the corners, not important\n",
    "dst = cv2.dilate(dst,None)\n",
    "# Threshold for an optimal value, it may vary depending on the image.\n",
    "img[dst>0.01*dst.max()]=[0,0,255] # 어느 이상되면 빨간색이 되게\n",
    "#코너값에 빨간색이 덮어진다. \n",
    "cv2.imshow('dst',img)\n",
    "if cv2.waitKey(0) & 0xff == 27:\n",
    "    cv2.destroyAllWindows()"
   ]
  },
  {
   "cell_type": "markdown",
   "id": "42389919-1222-44ad-9328-9f364459b4ea",
   "metadata": {},
   "source": [
    "## Corner with SubPixel Accuracy"
   ]
  },
  {
   "cell_type": "code",
   "execution_count": null,
   "id": "22984c9d-cada-488b-b984-fc31008c7fd4",
   "metadata": {},
   "outputs": [],
   "source": [
    "#SubPixel 은 더 정확하게 픽셀을 찾아주는 거"
   ]
  },
  {
   "cell_type": "code",
   "execution_count": 3,
   "id": "d7a663eb-113c-4e6b-979b-8baa93c79519",
   "metadata": {},
   "outputs": [],
   "source": [
    "import cv2\n",
    "import numpy as np"
   ]
  },
  {
   "cell_type": "code",
   "execution_count": 4,
   "id": "69b2be34-13ce-4605-a8c8-b81be99d82d8",
   "metadata": {},
   "outputs": [
    {
     "data": {
      "text/plain": [
       "True"
      ]
     },
     "execution_count": 4,
     "metadata": {},
     "output_type": "execute_result"
    }
   ],
   "source": [
    "filename = '152a.png'\n",
    "img = cv2.imread(filename)\n",
    "gray = cv2.cvtColor(img,cv2.COLOR_BGR2GRAY)\n",
    "# find Harris corners\n",
    "gray = np.float32(gray)\n",
    "dst = cv2.cornerHarris(gray,2,3,0.04)\n",
    "dst = cv2.dilate(dst,None)\n",
    "ret, dst = cv2.threshold(dst,0.01*dst.max(),255,0)\n",
    "#여기까지는 똑같다\n",
    "\n",
    "dst = np.uint8(dst)\n",
    "# find centroids\n",
    "ret, labels, stats, centroids = cv2.connectedComponentsWithStats(dst)\n",
    "# define the criteria to stop and refine the corners\n",
    "criteria = (cv2.TERM_CRITERIA_EPS + cv2.TERM_CRITERIA_MAX_ITER, 100, 0.001)\n",
    "corners = cv2.cornerSubPix(gray,np.float32(centroids),(5,5),(-1,-1),criteria)\n",
    "#cornerSubPix의 실수값으로 코너값을 찾아준다. \n",
    "# Now draw them\n",
    "res = np.hstack((centroids,corners))\n",
    "res = np.int0(res)\n",
    "img[res[:,1],res[:,0]]=[0,0,255]\n",
    "img[res[:,3],res[:,2]] = [0,255,0]\n",
    "\n",
    "\n",
    "cv2.imwrite('subpixel5.png',img)"
   ]
  },
  {
   "cell_type": "code",
   "execution_count": null,
   "id": "14077937-2432-4f09-8870-a27fc9488cea",
   "metadata": {},
   "outputs": [],
   "source": []
  }
 ],
 "metadata": {
  "kernelspec": {
   "display_name": "Python 3",
   "language": "python",
   "name": "python3"
  },
  "language_info": {
   "codemirror_mode": {
    "name": "ipython",
    "version": 3
   },
   "file_extension": ".py",
   "mimetype": "text/x-python",
   "name": "python",
   "nbconvert_exporter": "python",
   "pygments_lexer": "ipython3",
   "version": "3.9.4"
  }
 },
 "nbformat": 4,
 "nbformat_minor": 5
}
