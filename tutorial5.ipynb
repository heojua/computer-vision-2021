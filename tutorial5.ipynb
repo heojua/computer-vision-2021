{
 "cells": [
  {
   "cell_type": "markdown",
   "id": "6dd72db1-8c2d-4f8c-b2d4-9c8b8df8427a",
   "metadata": {},
   "source": [
    "## tutorial5"
   ]
  },
  {
   "cell_type": "code",
   "execution_count": 1,
   "id": "b01fff86-6561-4cd5-b043-2ecab826e31e",
   "metadata": {},
   "outputs": [],
   "source": [
    "x=5"
   ]
  },
  {
   "cell_type": "code",
   "execution_count": 2,
   "id": "330f2e0b-d5c0-46c7-ad50-e06c8ac010dd",
   "metadata": {},
   "outputs": [
    {
     "name": "stdout",
     "output_type": "stream",
     "text": [
      "X equals something else\n",
      "This is outside the ‘if’.\n"
     ]
    }
   ],
   "source": [
    "if(x==3):\n",
    "    print(\"X equals 3.\")\n",
    "elif(x==2):\n",
    "    print( \"X equals 2.\")\n",
    "else:\n",
    "    print(\"X equals something else\")\n",
    "    print (\"This is outside the ‘if’.\")"
   ]
  },
  {
   "cell_type": "code",
   "execution_count": 3,
   "id": "dfe6d6a3-fd88-4768-94ef-42a26f474c0c",
   "metadata": {},
   "outputs": [],
   "source": [
    "x=3"
   ]
  },
  {
   "cell_type": "code",
   "execution_count": 4,
   "id": "fae12f5c-cfd4-4571-9060-d558eb6e594d",
   "metadata": {},
   "outputs": [
    {
     "name": "stdout",
     "output_type": "stream",
     "text": [
      "3 ing\n",
      "4 ing\n"
     ]
    }
   ],
   "source": [
    "while x<5:\n",
    "    print(\"%d ing\" %x)\n",
    "    x=x+1"
   ]
  },
  {
   "cell_type": "code",
   "execution_count": 5,
   "id": "0b6008c4-2948-4552-876f-e598aefe729e",
   "metadata": {},
   "outputs": [],
   "source": [
    "x=6"
   ]
  },
  {
   "cell_type": "code",
   "execution_count": 6,
   "id": "72ba8461-6ea8-429f-8d88-090b8a834be1",
   "metadata": {},
   "outputs": [],
   "source": [
    "while x<5:\n",
    "    print(\"%d ing\" %x)\n",
    "    x=x+1"
   ]
  },
  {
   "cell_type": "code",
   "execution_count": 7,
   "id": "020c799f-9e98-4c67-b8fd-90ac4081d737",
   "metadata": {},
   "outputs": [
    {
     "name": "stdout",
     "output_type": "stream",
     "text": [
      "X equals something else\n",
      "This is outside the ‘if’.\n"
     ]
    }
   ],
   "source": [
    "if x==3:\n",
    "    print (\"X equals 3.\")\n",
    "elif x==2:\n",
    "    print( \"X equals 2.\")\n",
    "else:\n",
    "    print(\"X equals something else\")\n",
    "    print (\"This is outside the ‘if’.\")"
   ]
  },
  {
   "cell_type": "code",
   "execution_count": 8,
   "id": "1855b306-bd3a-41f4-92b7-1dd07aef2215",
   "metadata": {},
   "outputs": [],
   "source": [
    "a=1"
   ]
  },
  {
   "cell_type": "code",
   "execution_count": 9,
   "id": "ee36fdc4-22cf-40a6-8881-a6b0394bc821",
   "metadata": {},
   "outputs": [],
   "source": [
    "b=2"
   ]
  },
  {
   "cell_type": "code",
   "execution_count": 10,
   "id": "821e7165-7b22-41e8-bb2a-f043826c006a",
   "metadata": {},
   "outputs": [
    {
     "name": "stdout",
     "output_type": "stream",
     "text": [
      "b는 2이다\n"
     ]
    }
   ],
   "source": [
    "if a==0:\n",
    "    print(\"a는 0이다\")\n",
    "elif b==1:\n",
    "    print(\"b는 1이다\")\n",
    "elif b==2:\n",
    "    print(\"b는 2이다\")\n",
    "else:\n",
    "    print(\"b는 다 아니다\")"
   ]
  },
  {
   "cell_type": "code",
   "execution_count": 11,
   "id": "09e0610c-2fe6-4ae5-81b2-30ea73e93c66",
   "metadata": {},
   "outputs": [],
   "source": [
    "num = 0"
   ]
  },
  {
   "cell_type": "code",
   "execution_count": 12,
   "id": "99436231-8380-4db1-bf03-597421b9001d",
   "metadata": {},
   "outputs": [
    {
     "name": "stdout",
     "output_type": "stream",
     "text": [
      "0\n",
      "1\n",
      "2\n",
      "3\n",
      "4\n",
      "5\n"
     ]
    }
   ],
   "source": [
    "while 1:\n",
    "    print(num)\n",
    "    if num ==5:\n",
    "        break\n",
    "    num +=1"
   ]
  },
  {
   "cell_type": "code",
   "execution_count": 1,
   "id": "10416b6e-b667-43d1-87d8-aa9410848f64",
   "metadata": {},
   "outputs": [
    {
     "name": "stdout",
     "output_type": "stream",
     "text": [
      "1\n",
      "2\n",
      "3\n",
      "4\n",
      "6\n",
      "7\n",
      "8\n",
      "9\n",
      "10\n"
     ]
    }
   ],
   "source": [
    "a=0\n",
    "while a<10:\n",
    "    a+=1\n",
    "    if a==5:\n",
    "        continue\n",
    "    print(a)"
   ]
  },
  {
   "cell_type": "code",
   "execution_count": 2,
   "id": "d56ba8a5-2229-4b41-be02-caeea865379f",
   "metadata": {},
   "outputs": [
    {
     "ename": "AssertionError",
     "evalue": "",
     "output_type": "error",
     "traceback": [
      "\u001b[1;31m---------------------------------------------------------------------------\u001b[0m",
      "\u001b[1;31mAssertionError\u001b[0m                            Traceback (most recent call last)",
      "\u001b[1;32m<ipython-input-2-720142fc9405>\u001b[0m in \u001b[0;36m<module>\u001b[1;34m\u001b[0m\n\u001b[0;32m      1\u001b[0m \u001b[0ma\u001b[0m\u001b[1;33m=\u001b[0m\u001b[1;36m2\u001b[0m\u001b[1;33m\u001b[0m\u001b[1;33m\u001b[0m\u001b[0m\n\u001b[1;32m----> 2\u001b[1;33m \u001b[1;32massert\u001b[0m \u001b[0ma\u001b[0m\u001b[1;33m==\u001b[0m\u001b[1;36m3\u001b[0m\u001b[1;33m\u001b[0m\u001b[1;33m\u001b[0m\u001b[0m\n\u001b[0m",
      "\u001b[1;31mAssertionError\u001b[0m: "
     ]
    }
   ],
   "source": [
    "a=2\n",
    "assert a==3"
   ]
  },
  {
   "cell_type": "code",
   "execution_count": null,
   "id": "c6bc63d0-5fe5-4043-b08b-089f4950b9a3",
   "metadata": {},
   "outputs": [],
   "source": []
  }
 ],
 "metadata": {
  "kernelspec": {
   "display_name": "Python 3",
   "language": "python",
   "name": "python3"
  },
  "language_info": {
   "codemirror_mode": {
    "name": "ipython",
    "version": 3
   },
   "file_extension": ".py",
   "mimetype": "text/x-python",
   "name": "python",
   "nbconvert_exporter": "python",
   "pygments_lexer": "ipython3",
   "version": "3.8.8"
  }
 },
 "nbformat": 4,
 "nbformat_minor": 5
}
