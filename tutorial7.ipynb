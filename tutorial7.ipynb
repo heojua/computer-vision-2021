{
 "cells": [
  {
   "cell_type": "markdown",
   "id": "9e2ea6f9-0839-49c5-8626-3d9f0788b101",
   "metadata": {},
   "source": [
    "## tutorial7"
   ]
  },
  {
   "cell_type": "code",
   "execution_count": 2,
   "id": "a6ad4ec2-c84f-46f2-aacd-0b8f5a263d0b",
   "metadata": {},
   "outputs": [],
   "source": [
    "li = [3, 6, 2, 7]"
   ]
  },
  {
   "cell_type": "code",
   "execution_count": 3,
   "id": "a1e0583b-1dde-48be-bd65-627495594dab",
   "metadata": {},
   "outputs": [
    {
     "data": {
      "text/plain": [
       "[6, 12, 4, 14]"
      ]
     },
     "execution_count": 3,
     "metadata": {},
     "output_type": "execute_result"
    }
   ],
   "source": [
    "[elem*2 for elem in li]  "
   ]
  },
  {
   "cell_type": "code",
   "execution_count": 4,
   "id": "a9ba9447-06f5-47f6-9f6b-c8ff74f75bef",
   "metadata": {},
   "outputs": [],
   "source": [
    "li=[('a',1),('b',2),('c',7)]"
   ]
  },
  {
   "cell_type": "code",
   "execution_count": 5,
   "id": "5a165a40-713b-4691-8d51-8e87e272aced",
   "metadata": {},
   "outputs": [
    {
     "data": {
      "text/plain": [
       "[3, 6, 21]"
      ]
     },
     "execution_count": 5,
     "metadata": {},
     "output_type": "execute_result"
    }
   ],
   "source": [
    "[n*3 for (x,n) in li]"
   ]
  },
  {
   "cell_type": "code",
   "execution_count": 6,
   "id": "e0d991d6-d35f-4a3b-bbfe-7b8b63857f4e",
   "metadata": {},
   "outputs": [],
   "source": [
    "li = [3, 6, 2, 7, 1, 9]"
   ]
  },
  {
   "cell_type": "code",
   "execution_count": 7,
   "id": "518f37e5-4752-4804-8ad6-d168dcbc40f9",
   "metadata": {},
   "outputs": [
    {
     "data": {
      "text/plain": [
       "[12, 14, 18]"
      ]
     },
     "execution_count": 7,
     "metadata": {},
     "output_type": "execute_result"
    }
   ],
   "source": [
    "[elem * 2 for elem in li if elem > 4] "
   ]
  },
  {
   "cell_type": "code",
   "execution_count": 8,
   "id": "e24da299-8f89-4ac2-8c5a-102778fce18c",
   "metadata": {},
   "outputs": [],
   "source": [
    "li=[3,2,4,1]"
   ]
  },
  {
   "cell_type": "code",
   "execution_count": 10,
   "id": "0e69cfa1-c7bf-46d2-8cbb-9a33259705df",
   "metadata": {},
   "outputs": [
    {
     "data": {
      "text/plain": [
       "[8, 6, 10, 4]"
      ]
     },
     "execution_count": 10,
     "metadata": {},
     "output_type": "execute_result"
    }
   ],
   "source": [
    "[elem*2 for elem in[item+1 for item in li]]"
   ]
  },
  {
   "cell_type": "code",
   "execution_count": null,
   "id": "fd6fc737-0e24-486b-b035-b56944d72705",
   "metadata": {},
   "outputs": [],
   "source": []
  }
 ],
 "metadata": {
  "kernelspec": {
   "display_name": "Python 3",
   "language": "python",
   "name": "python3"
  },
  "language_info": {
   "codemirror_mode": {
    "name": "ipython",
    "version": 3
   },
   "file_extension": ".py",
   "mimetype": "text/x-python",
   "name": "python",
   "nbconvert_exporter": "python",
   "pygments_lexer": "ipython3",
   "version": "3.9.4"
  }
 },
 "nbformat": 4,
 "nbformat_minor": 5
}
