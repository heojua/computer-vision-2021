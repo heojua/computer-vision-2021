{
 "cells": [
  {
   "cell_type": "markdown",
   "id": "4185ffc2-7717-4fde-820f-4040a5083430",
   "metadata": {},
   "source": [
    "## tutorial6"
   ]
  },
  {
   "cell_type": "code",
   "execution_count": 1,
   "id": "e8285e8a-de15-4cd3-9f39-d30b0c62624c",
   "metadata": {},
   "outputs": [
    {
     "name": "stdout",
     "output_type": "stream",
     "text": [
      "a\n",
      "b\n",
      "c\n",
      "d\n"
     ]
    }
   ],
   "source": [
    "for (x, y) in [(\"a\",1), (\"b\",2), (\"c\",3), (\"d\",4)]:\n",
    "    print(x);"
   ]
  },
  {
   "cell_type": "code",
   "execution_count": 7,
   "id": "2df317c2-64e8-45f0-9a88-4955c2434ebd",
   "metadata": {},
   "outputs": [
    {
     "name": "stdout",
     "output_type": "stream",
     "text": [
      "0\n",
      "1\n",
      "2\n",
      "3\n",
      "4\n"
     ]
    }
   ],
   "source": [
    "for x in range(5):\n",
    "    print(x)"
   ]
  },
  {
   "cell_type": "code",
   "execution_count": 6,
   "id": "07c83382-18f7-4a50-83c6-cc19b57ba370",
   "metadata": {},
   "outputs": [
    {
     "name": "stdout",
     "output_type": "stream",
     "text": [
      "a 1\n",
      "b 2\n",
      "c 3\n",
      "d 4\n"
     ]
    }
   ],
   "source": [
    "for (i, item) in [(\"a\",1), (\"b\",2), (\"c\",3), (\"d\",4)]:  \n",
    "    print(i, item)"
   ]
  },
  {
   "cell_type": "code",
   "execution_count": 5,
   "id": "ecc7de1f-748b-44fa-a401-3d7a30c5afd0",
   "metadata": {},
   "outputs": [
    {
     "name": "stdout",
     "output_type": "stream",
     "text": [
      "H\n",
      "e\n",
      "l\n",
      "l\n",
      "o\n",
      " \n",
      "W\n",
      "o\n",
      "r\n",
      "l\n",
      "d\n"
     ]
    }
   ],
   "source": [
    "for a in \"Hello World\":\n",
    "    print(a)"
   ]
  },
  {
   "cell_type": "code",
   "execution_count": 2,
   "id": "5aef85ad-0754-4948-9fe8-504c82f9ed5d",
   "metadata": {},
   "outputs": [
    {
     "name": "stdout",
     "output_type": "stream",
     "text": [
      "1\n",
      "2\n",
      "3\n",
      "4\n"
     ]
    }
   ],
   "source": [
    "for a in [1,2,3,4]:\n",
    "    print(a);"
   ]
  },
  {
   "cell_type": "code",
   "execution_count": 2,
   "id": "e829ebca-7e3e-4603-9bf4-b64966f14a63",
   "metadata": {},
   "outputs": [
    {
     "name": "stdout",
     "output_type": "stream",
     "text": [
      "1\n",
      "2\n",
      "3\n",
      "4\n",
      "6\n",
      "7\n",
      "8\n",
      "9\n",
      "10\n"
     ]
    }
   ],
   "source": [
    "a=0\n",
    "while a<10:\n",
    "    a+=1\n",
    "    if a==5:\n",
    "        continue\n",
    "    print(a)"
   ]
  },
  {
   "cell_type": "code",
   "execution_count": 8,
   "id": "d3c0e052-c508-40d4-9b0b-42cd09b197a0",
   "metadata": {},
   "outputs": [],
   "source": [
    "arr=[1,2,3,4,5]"
   ]
  },
  {
   "cell_type": "code",
   "execution_count": 10,
   "id": "cb0a6ec0-70f6-4d2c-98ee-5cdde10e7e10",
   "metadata": {},
   "outputs": [
    {
     "name": "stdout",
     "output_type": "stream",
     "text": [
      "0 1\n",
      "1 2\n",
      "2 3\n",
      "3 4\n",
      "4 5\n"
     ]
    }
   ],
   "source": [
    "for i in range(len(arr)):  #피해라\n",
    "    print (i, arr[i])"
   ]
  },
  {
   "cell_type": "code",
   "execution_count": 11,
   "id": "12c91827-d739-41c6-8472-9b88a174a9b3",
   "metadata": {},
   "outputs": [
    {
     "name": "stdout",
     "output_type": "stream",
     "text": [
      "0 번째 값 1\n",
      "1 번째 값 2\n",
      "2 번째 값 3\n",
      "3 번째 값 4\n",
      "4 번째 값 5\n"
     ]
    }
   ],
   "source": [
    "for i in range(len(arr)): #피해라\n",
    "    print (\"{} 번째 값 {}\".format(i,arr[i]))"
   ]
  },
  {
   "cell_type": "code",
   "execution_count": 16,
   "id": "30a09d10-5f70-4dfa-8b7b-e7f668103432",
   "metadata": {},
   "outputs": [
    {
     "name": "stdout",
     "output_type": "stream",
     "text": [
      "0 1\n",
      "1 2\n",
      "2 3\n",
      "3 4\n",
      "4 5\n"
     ]
    }
   ],
   "source": [
    "for (i,item) in enumerate(arr): #대신\n",
    "    print(i,item)"
   ]
  },
  {
   "cell_type": "code",
   "execution_count": null,
   "id": "ca29a2f6-eb8a-4eef-9206-8610d64744b6",
   "metadata": {},
   "outputs": [],
   "source": []
  }
 ],
 "metadata": {
  "kernelspec": {
   "display_name": "Python 3",
   "language": "python",
   "name": "python3"
  },
  "language_info": {
   "codemirror_mode": {
    "name": "ipython",
    "version": 3
   },
   "file_extension": ".py",
   "mimetype": "text/x-python",
   "name": "python",
   "nbconvert_exporter": "python",
   "pygments_lexer": "ipython3",
   "version": "3.9.4"
  }
 },
 "nbformat": 4,
 "nbformat_minor": 5
}
