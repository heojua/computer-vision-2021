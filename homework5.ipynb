{
 "cells": [
  {
   "cell_type": "markdown",
   "id": "61b9e306-08db-4824-a3d4-90fd3444ecf5",
   "metadata": {},
   "source": [
    "## Homework5"
   ]
  },
  {
   "cell_type": "code",
   "execution_count": 1,
   "id": "d97dce2a-4843-4ced-a582-68091d1b50ee",
   "metadata": {},
   "outputs": [],
   "source": [
    "#숙제3에서 퀀터만 추가..?"
   ]
  },
  {
   "cell_type": "code",
   "execution_count": 9,
   "id": "0b17d5ad-c15c-4a95-b3a1-eb94e5bb00d0",
   "metadata": {},
   "outputs": [],
   "source": [
    "import numpy as np\n",
    "import cv2"
   ]
  },
  {
   "cell_type": "code",
   "execution_count": 10,
   "id": "9a846a5e-ea58-47ea-ab14-408310e40fe4",
   "metadata": {},
   "outputs": [
    {
     "ename": "UnboundLocalError",
     "evalue": "local variable 'cnt' referenced before assignment",
     "output_type": "error",
     "traceback": [
      "\u001b[1;31m---------------------------------------------------------------------------\u001b[0m",
      "\u001b[1;31mUnboundLocalError\u001b[0m                         Traceback (most recent call last)",
      "\u001b[1;32m<ipython-input-10-19f046ee79a0>\u001b[0m in \u001b[0;36m<module>\u001b[1;34m\u001b[0m\n\u001b[0;32m     45\u001b[0m \u001b[1;33m\u001b[0m\u001b[0m\n\u001b[0;32m     46\u001b[0m \u001b[1;32mif\u001b[0m \u001b[0m__name__\u001b[0m \u001b[1;33m==\u001b[0m \u001b[1;34m\"__main__\"\u001b[0m\u001b[1;33m:\u001b[0m\u001b[1;33m\u001b[0m\u001b[1;33m\u001b[0m\u001b[0m\n\u001b[1;32m---> 47\u001b[1;33m     \u001b[0mrun_main\u001b[0m\u001b[1;33m(\u001b[0m\u001b[1;33m)\u001b[0m\u001b[1;33m\u001b[0m\u001b[1;33m\u001b[0m\u001b[0m\n\u001b[0m",
      "\u001b[1;32m<ipython-input-10-19f046ee79a0>\u001b[0m in \u001b[0;36mrun_main\u001b[1;34m()\u001b[0m\n\u001b[0;32m     21\u001b[0m \u001b[1;33m\u001b[0m\u001b[0m\n\u001b[0;32m     22\u001b[0m \u001b[1;33m\u001b[0m\u001b[0m\n\u001b[1;32m---> 23\u001b[1;33m         \u001b[0mapprox\u001b[0m \u001b[1;33m=\u001b[0m \u001b[0mcv2\u001b[0m\u001b[1;33m.\u001b[0m\u001b[0mapproxPolyDP\u001b[0m\u001b[1;33m(\u001b[0m\u001b[0mcnt\u001b[0m\u001b[1;33m,\u001b[0m\u001b[0mepsilon\u001b[0m\u001b[1;33m,\u001b[0m\u001b[1;32mTrue\u001b[0m\u001b[1;33m)\u001b[0m\u001b[1;33m\u001b[0m\u001b[1;33m\u001b[0m\u001b[0m\n\u001b[0m\u001b[0;32m     24\u001b[0m \u001b[1;33m\u001b[0m\u001b[0m\n\u001b[0;32m     25\u001b[0m         \u001b[1;32mfor\u001b[0m \u001b[0mcnt\u001b[0m \u001b[1;32min\u001b[0m \u001b[0mcontours\u001b[0m\u001b[1;33m:\u001b[0m\u001b[1;33m\u001b[0m\u001b[1;33m\u001b[0m\u001b[0m\n",
      "\u001b[1;31mUnboundLocalError\u001b[0m: local variable 'cnt' referenced before assignment"
     ]
    }
   ],
   "source": [
    "def run_main():\n",
    "    cap = cv2.VideoCapture(0)\n",
    "\n",
    "\n",
    "    while(True):\n",
    "        ret, frame = cap.read()\n",
    "        roi = frame[0:500, 0:500]\n",
    "        gray = cv2.cvtColor(roi, cv2.COLOR_BGR2GRAY)\n",
    "\n",
    "        gray_blur = cv2.GaussianBlur(gray, (15, 15), 0)\n",
    "        thresh = cv2.adaptiveThreshold(gray_blur, 255, cv2.ADAPTIVE_THRESH_GAUSSIAN_C,\n",
    "                                       cv2.THRESH_BINARY_INV, 11, 1)\n",
    "\n",
    "        kernel = np.ones((3, 3), np.uint8)\n",
    "        closing = cv2.morphologyEx(thresh, cv2.MORPH_CLOSE,\n",
    "        kernel, iterations=4)\n",
    "\n",
    "        cont_img = closing.copy()\n",
    "        contours, hierarchy = cv2.findContours(cont_img, cv2.RETR_EXTERNAL,\n",
    "                                               cv2.CHAIN_APPROX_SIMPLE)\n",
    "\n",
    "        for cnt in contours:\n",
    "            area = cv2.contourArea(cnt)\n",
    "            if area < 2000 or area > 4000:\n",
    "                continue\n",
    "\n",
    "            if len(cnt) < 5:\n",
    "                continue\n",
    "\n",
    "            ellipse = cv2.fitEllipse(cnt)\n",
    "            cv2.ellipse(roi, ellipse, (0,255,0), 2)\n",
    "\n",
    "        cv2.imshow(\"Morphological Closing\", closing)\n",
    "        cv2.imshow(\"Adaptive Thresholding\", thresh)\n",
    "        cv2.imshow('Contours', roi)\n",
    "\n",
    "        if cv2.waitKey(1) & 0xFF == ord('q'):\n",
    "            break\n",
    "\n",
    "    cap.release()\n",
    "    cv2.destroyAllWindows()\n",
    "\n",
    "if __name__ == \"__main__\":\n",
    "    run_main()"
   ]
  },
  {
   "cell_type": "code",
   "execution_count": null,
   "id": "db66e8ac-9cbe-4a9e-9efa-0be17809bc0c",
   "metadata": {},
   "outputs": [],
   "source": []
  }
 ],
 "metadata": {
  "kernelspec": {
   "display_name": "Python 3",
   "language": "python",
   "name": "python3"
  },
  "language_info": {
   "codemirror_mode": {
    "name": "ipython",
    "version": 3
   },
   "file_extension": ".py",
   "mimetype": "text/x-python",
   "name": "python",
   "nbconvert_exporter": "python",
   "pygments_lexer": "ipython3",
   "version": "3.9.4"
  }
 },
 "nbformat": 4,
 "nbformat_minor": 5
}
