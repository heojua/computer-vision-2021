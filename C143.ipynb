{
 "cells": [
  {
   "cell_type": "markdown",
   "id": "9795c977-d294-4d08-b311-78abf8d33526",
   "metadata": {},
   "source": [
    "## 1.4.3 Geometric Transformations of Images"
   ]
  },
  {
   "cell_type": "code",
   "execution_count": 1,
   "id": "90f0478f-2627-424f-a5a5-0fd5661ec6e9",
   "metadata": {},
   "outputs": [],
   "source": [
    "import cv2\n",
    "import numpy as np\n",
    "from matplotlib import pyplot as plt"
   ]
  },
  {
   "cell_type": "code",
   "execution_count": 2,
   "id": "a8e97f76-149d-49b9-bf0d-be46cda40101",
   "metadata": {},
   "outputs": [],
   "source": [
    "def pltImage(img):\n",
    "    channels = len(img.shape)\n",
    "    if channels == 3:\n",
    "        plt.imshow(cv2.cvtColor(img, cv2.COLOR_BGR2RGB))\n",
    "    else:\n",
    "        plt.imshow(img, cmap='gray')\n",
    "    plt.xticks([]), plt.yticks([]) # to hide tick values on X and Y axis\n",
    "    plt.show()"
   ]
  },
  {
   "cell_type": "code",
   "execution_count": 3,
   "id": "11e51d79-0958-4ad3-ac9f-d1f9e5a36623",
   "metadata": {},
   "outputs": [],
   "source": [
    "img = cv2.imread('opencv2.png')\n",
    "res=cv2.resize(img,None,fx=2,fy=2, interpolation=cv2.INTER_CUBIC)"
   ]
  },
  {
   "cell_type": "code",
   "execution_count": 4,
   "id": "85570cd7-8a81-4890-81ea-4f7c69451b36",
   "metadata": {},
   "outputs": [],
   "source": [
    "cv2.imshow('img',img) #오리지날\n",
    "cv2.imshow('dst',res) #두배 키워짐\n",
    "cv2.waitKey(0)\n",
    "cv2.destroyAllWindows()"
   ]
  },
  {
   "cell_type": "code",
   "execution_count": 19,
   "id": "fd81ddc1-b477-45fb-a182-6b247bfd3f2c",
   "metadata": {},
   "outputs": [],
   "source": [
    "height, width = img.shape[:2]\n",
    "res = cv2.resize(img,(2*width, 2*height), interpolation = cv2.INTER_CUBIC)"
   ]
  },
  {
   "cell_type": "code",
   "execution_count": 20,
   "id": "170b955c-2844-4a89-975c-70e4f4645dd5",
   "metadata": {},
   "outputs": [],
   "source": [
    "img = cv2.imread('opencv2.png',0)\n",
    "rows,cols = img.shape\n",
    "M = np.float32([[1,0,100],[0,1,50]])\n",
    "dst = cv2.warpAffine(img,M,(cols,rows))"
   ]
  },
  {
   "cell_type": "code",
   "execution_count": 21,
   "id": "70af7ae0-b71d-4038-bd4f-405383ca6629",
   "metadata": {},
   "outputs": [],
   "source": [
    "cv2.imshow('img',img)\n",
    "cv2.imshow('dst',dst)\n",
    "cv2.waitKey(0)\n",
    "cv2.destroyAllWindows()"
   ]
  },
  {
   "cell_type": "code",
   "execution_count": 32,
   "id": "76345af1-fad0-4997-b532-38d8bd484cf4",
   "metadata": {},
   "outputs": [],
   "source": [
    "img = cv2.imread('opencv2.png')\n",
    "rows,cols,ch = img.shape\n",
    "M = cv2.getRotationMatrix2D((cols/2,rows/2),45,1) #45도 돌아감\n",
    "dst = cv2.warpAffine(img,M,(cols,rows))"
   ]
  },
  {
   "cell_type": "code",
   "execution_count": 33,
   "id": "0f0f3b8f-3e18-40fe-9124-165443b2fad1",
   "metadata": {},
   "outputs": [],
   "source": [
    "img = cv2.imread('opencv2.png')\n",
    "rows,cols,ch = img.shape\n",
    "pts1 = np.float32([[50,50],[200,50],[50,200]])\n",
    "pts2 = np.float32([[10,100],[200,50],[100,250]])"
   ]
  },
  {
   "cell_type": "code",
   "execution_count": 34,
   "id": "0482776d-d1d5-49ee-9e91-925bf26a9a15",
   "metadata": {},
   "outputs": [],
   "source": [
    "cv2.imshow('img',img) #원래 이미지\n",
    "cv2.imshow('dst',dst) #45도 돌아간 이미지\n",
    "cv2.waitKey(0)\n",
    "cv2.destroyAllWindows()"
   ]
  },
  {
   "cell_type": "code",
   "execution_count": 31,
   "id": "ef9ea552-ddd5-4386-b7ad-9ea0c07b8f59",
   "metadata": {},
   "outputs": [
    {
     "data": {
      "image/png": "[encoded data removed]",
      "text/plain": [
       "<Figure size 432x288 with 2 Axes>"
      ]
     },
     "metadata": {
      "needs_background": "light"
     },
     "output_type": "display_data"
    }
   ],
   "source": [
    "M = cv2.getAffineTransform(pts1,pts2)\n",
    "dst = cv2.warpAffine(img,M,(cols,rows))\n",
    "plt.subplot(121),plt.imshow(img),plt.title('Input')\n",
    "plt.subplot(122),plt.imshow(dst),plt.title('Output')\n",
    "plt.show()"
   ]
  },
  {
   "cell_type": "code",
   "execution_count": 36,
   "id": "966a6d4c-d68b-4708-af67-f0917233e45a",
   "metadata": {},
   "outputs": [
    {
     "data": {
      "image/png": "[encoded data removed]",
      "text/plain": [
       "<Figure size 432x288 with 2 Axes>"
      ]
     },
     "metadata": {
      "needs_background": "light"
     },
     "output_type": "display_data"
    }
   ],
   "source": [
    "img = cv2.imread('opencv2.png')\n",
    "rows,cols,ch = img.shape\n",
    "pts1 = np.float32([[56,65],[368,52],[28,387],[389,390]])\n",
    "pts2 = np.float32([[0,0],[300,0],[0,300],[300,300]])\n",
    "M = cv2.getPerspectiveTransform(pts1,pts2)\n",
    "dst = cv2.warpPerspective(img,M,(300,300))\n",
    "plt.subplot(121),plt.imshow(img),plt.title('Input')\n",
    "plt.subplot(122),plt.imshow(dst),plt.title('Output')\n",
    "plt.show()"
   ]
  },
  {
   "cell_type": "code",
   "execution_count": null,
   "id": "a1af224c-fe80-4dfe-b910-8f878eaf4008",
   "metadata": {},
   "outputs": [],
   "source": []
  }
 ],
 "metadata": {
  "kernelspec": {
   "display_name": "Python 3",
   "language": "python",
   "name": "python3"
  },
  "language_info": {
   "codemirror_mode": {
    "name": "ipython",
    "version": 3
   },
   "file_extension": ".py",
   "mimetype": "text/x-python",
   "name": "python",
   "nbconvert_exporter": "python",
   "pygments_lexer": "ipython3",
   "version": "3.9.4"
  }
 },
 "nbformat": 4,
 "nbformat_minor": 5
}
